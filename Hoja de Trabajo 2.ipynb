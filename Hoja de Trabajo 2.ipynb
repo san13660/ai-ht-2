{
 "cells": [
  {
   "cell_type": "markdown",
   "metadata": {},
   "source": [
    "## Hoja de Trabajo 2\n",
    "### Christopher Sandoval 13660\n",
    "\n",
    "(Para probar el funcionamiento del código de una forma más sencilla se pueden correr los archivos train.py y test.py)\n",
    "\n",
    "Importamos las librerías necesarias."
   ]
  },
  {
   "cell_type": "code",
   "execution_count": 22,
   "metadata": {},
   "outputs": [],
   "source": [
    "import numpy as np\n",
    "from scipy.optimize import minimize\n",
    "import time\n",
    "import pickle\n",
    "import math\n",
    "from functools import reduce\n",
    "import scipy"
   ]
  },
  {
   "cell_type": "markdown",
   "metadata": {},
   "source": [
    "### FUNCIONES\n",
    "\n",
    "Se define la función que nos ayudará a leer los datos de las imagenes. Esta función es parte del repositorio de fashion-mnist de donde se obtuvieron los datos de prueba https://github.com/zalandoresearch/fashion-mnist "
   ]
  },
  {
   "cell_type": "code",
   "execution_count": 23,
   "metadata": {},
   "outputs": [],
   "source": [
    "def load_mnist(path, kind='train'):\n",
    "    import os\n",
    "    import gzip\n",
    "    import numpy as np\n",
    "\n",
    "    \"\"\"Load MNIST data from `path`\"\"\"\n",
    "    labels_path = os.path.join(path,\n",
    "                               '%s-labels-idx1-ubyte.gz'\n",
    "                               % kind)\n",
    "    images_path = os.path.join(path,\n",
    "                               '%s-images-idx3-ubyte.gz'\n",
    "                               % kind)\n",
    "\n",
    "    with gzip.open(labels_path, 'rb') as lbpath:\n",
    "        labels = np.frombuffer(lbpath.read(), dtype=np.uint8,\n",
    "                               offset=8)\n",
    "\n",
    "    with gzip.open(images_path, 'rb') as imgpath:\n",
    "        images = np.frombuffer(imgpath.read(), dtype=np.uint8,\n",
    "                               offset=16).reshape(len(labels), 784)\n",
    "\n",
    "    return images, labels"
   ]
  },
  {
   "cell_type": "markdown",
   "metadata": {},
   "source": [
    "Se definen las funciones necesarias para realizar el entrenamiento y pruebas del modelo. Basado en el código visto en clase."
   ]
  },
  {
   "cell_type": "code",
   "execution_count": 24,
   "metadata": {},
   "outputs": [],
   "source": [
    "sigmoid = lambda x: 1.0 / (1.0 + np.exp(-x))\n",
    "\n",
    "flatten_list_of_arrays = lambda list_of_arrays: reduce(\n",
    "    lambda acc, v: np.array([*acc.flatten(), *v.flatten()]),\n",
    "    list_of_arrays\n",
    ")\n",
    "\n",
    "def inflate_matrixes(flat_thetas, shapes):\n",
    "    layers = len(shapes) + 1\n",
    "    sizes = [shape[0] * shape[1] for shape in shapes]\n",
    "    steps = np.zeros(layers, dtype=int)\n",
    "\n",
    "    for i in range(layers - 1):\n",
    "        steps[i + 1] = steps[i] + sizes[i]\n",
    "\n",
    "    return [\n",
    "        flat_thetas[steps[i]: steps[i + 1]].reshape(*shapes[i])\n",
    "        for i in range(layers - 1)\n",
    "    ]\n",
    "\n",
    "def feed_forward(thetas, X):\n",
    "    a = [X]\n",
    "    for i in range(len(thetas)):\n",
    "        a.append(\n",
    "            sigmoid(\n",
    "                np.matmul(\n",
    "                    np.hstack((np.ones(len(X)).reshape(len(X), 1), a[i])),\n",
    "                    thetas[i].T\n",
    "                )\n",
    "            )\n",
    "        )\n",
    "    return a\n",
    "\n",
    "def back_propagation(flat_thetas, shapes, X, Y):\n",
    "    m, layers = len(X), len(shapes) + 1\n",
    "    thetas = inflate_matrixes(flat_thetas, shapes)\n",
    "    a = feed_forward(thetas, X)\n",
    "    deltas = [*range(layers - 1), a[-1] - Y]\n",
    "\n",
    "    for i in range(layers - 2, 0, -1):\n",
    "        deltas[i] = (deltas[i + 1] @ np.delete(thetas[i], 0, 1)) * (a[i] * (1 - a[i]))\n",
    "        \n",
    "    new_deltas = []\n",
    "    for n in range(layers - 1):\n",
    "        new_deltas.append(\n",
    "            (deltas[n + 1].T @ np.hstack((\n",
    "                np.ones(len(a[n])).reshape(len(a[n]), 1),\n",
    "                a[n]\n",
    "            ))) / m\n",
    "        )\n",
    "\n",
    "    new_deltas = np.asarray(new_deltas)\n",
    "\n",
    "    return flatten_list_of_arrays(\n",
    "        new_deltas\n",
    "    )\n",
    "\n",
    "def cost_function(flat_thetas, shapes, X, Y):\n",
    "    a = feed_forward(\n",
    "        inflate_matrixes(flat_thetas, shapes),\n",
    "        X\n",
    "    )\n",
    "    return -(Y * np.log(a[-1]) + (1 - Y) * np.log(1 - a[-1])).sum() / len(X)\n",
    "\n",
    "def predict(flat_thetas, shapes, X):\n",
    "    thetas = inflate_matrixes(flat_thetas, shapes)\n",
    "    return feed_forward(thetas, X)[-1]"
   ]
  },
  {
   "cell_type": "markdown",
   "metadata": {},
   "source": [
    "### MODELO\n",
    "\n",
    "Establecemos el factor de normalización de los datos y el modelo de nuestra red neuronal ya que deben permanecer consistentes entre el entrenamiento y las pruebas. Nuestro modelo tendra 3 capas, la capa de entrada consistirá de 784 neuronas (cada una correspondiente a un pixel de las imagenes), la capa oculta que constará de 125 neuronas, y por último la capa de salida que constará de 10 neuronas cada una correspondiente a los diferentes tipos de ropa que estamos intentando identificar."
   ]
  },
  {
   "cell_type": "code",
   "execution_count": 25,
   "metadata": {},
   "outputs": [],
   "source": [
    "NORMALIZATION_FACTOR = 1000.0\n",
    "\n",
    "INPUT_NEURONS = 784\n",
    "HIDDEN_NEURONS = 125\n",
    "OUTPUT_NEURONS = 10\n",
    "\n",
    "layers = np.array([\n",
    "    INPUT_NEURONS,\n",
    "    HIDDEN_NEURONS,\n",
    "    EXIT_NEURONS\n",
    "])\n",
    "theta_shapes = np.hstack((\n",
    "    layers[1:].reshape(len(layers) - 1, 1),\n",
    "    (layers[:-1] + 1).reshape(len(layers) - 1, 1)\n",
    "))"
   ]
  },
  {
   "cell_type": "markdown",
   "metadata": {},
   "source": [
    "### ENTRENAMIENTO\n",
    "\n",
    "Primero se establecen las iteraciones máximas permitidas en el entrenamiento."
   ]
  },
  {
   "cell_type": "code",
   "execution_count": 32,
   "metadata": {},
   "outputs": [],
   "source": [
    "MAX_ITERATIONS = 3333"
   ]
  },
  {
   "cell_type": "markdown",
   "metadata": {},
   "source": [
    "Se importan los datos con la funcion mnist_reader y se normalizan los valores de X correspondientes a los pixeles de las imágenes."
   ]
  },
  {
   "cell_type": "code",
   "execution_count": 38,
   "metadata": {},
   "outputs": [],
   "source": [
    "X_train, y_train = load_mnist('data/fashion', kind='train')\n",
    "\n",
    "X_train = X_train / NORMALIZATION_FACTOR\n",
    "m, n = X_train.shape\n",
    "y_train = y_train.reshape(m, 1)\n",
    "y_train = (y_train == np.array(range(10))).astype(int)\n",
    "\n",
    "flat_thetas = flatten_list_of_arrays([\n",
    "    np.random.rand(*theta_shape)\n",
    "    for theta_shape in theta_shapes\n",
    "])"
   ]
  },
  {
   "cell_type": "markdown",
   "metadata": {},
   "source": [
    "Se inicia el entrenamiento con un máximo de 3333 iteraciones."
   ]
  },
  {
   "cell_type": "code",
   "execution_count": null,
   "metadata": {},
   "outputs": [],
   "source": [
    "start = time.time()\n",
    "\n",
    "print(\"Iniciando entrenamiento...\")\n",
    "\n",
    "result = minimize(\n",
    "    fun = cost_function,\n",
    "    x0 = flat_thetas,\n",
    "    args = (theta_shapes, X_train, y_train),\n",
    "    method = 'L-BFGS-B',\n",
    "    jac = back_propagation,\n",
    "    options = {'disp': False, 'maxiter': MAX_ITERATIONS}\n",
    ")\n",
    "\n",
    "end = time.time()\n",
    "\n",
    "print(\"Entrenamiento completado en {}s\".format(end - start))\n",
    "\n",
    "outfile = open('trained_model', 'wb')\n",
    "pickle.dump(result.x, outfile)\n",
    "outfile.close()\n",
    "\n",
    "print(\"Archivo del modelo creado!\")"
   ]
  },
  {
   "cell_type": "markdown",
   "metadata": {},
   "source": [
    "### TESTING\n",
    "\n",
    "Para probar el modelo se utilizara el set de datos t10k. Primero importamos los datos y los normalizamos."
   ]
  },
  {
   "cell_type": "code",
   "execution_count": 26,
   "metadata": {},
   "outputs": [],
   "source": [
    "X_test, y_test = load_mnist('data/fashion', kind='t10k')\n",
    "X = X_test / NORMALIZATION_FACTOR"
   ]
  },
  {
   "cell_type": "markdown",
   "metadata": {},
   "source": [
    "Luego abriremos el modelo que fue guardado en el entrenamiento y lo enviamos a nuestra funcion de prediccion."
   ]
  },
  {
   "cell_type": "code",
   "execution_count": 27,
   "metadata": {},
   "outputs": [],
   "source": [
    "openfile = open(\"trained_model\", \"rb\")\n",
    "thetas_trained = pickle.load(openfile)\n",
    "\n",
    "predictions = predict(thetas_trained, theta_shapes, X)"
   ]
  },
  {
   "cell_type": "markdown",
   "metadata": {},
   "source": [
    "Por último convertiremos las predicciones al mismo formato de los datos de prueba y comparamos los resultados para conocer el porcentaje de precisión de nuestro modelo"
   ]
  },
  {
   "cell_type": "code",
   "execution_count": 31,
   "metadata": {},
   "outputs": [
    {
     "name": "stdout",
     "output_type": "stream",
     "text": [
      "-----------RESULTADOS TESTING-----------\n",
      "Predicciones acertadas: 8458/10000\n",
      "Porcentaje de precision: 84.58%\n"
     ]
    }
   ],
   "source": [
    "predictions_cleaned = np.array([])\n",
    "\n",
    "for prediction in predictions:\n",
    "    condition = (prediction == np.amax(prediction))\n",
    "    index = np.where(condition)[0]\n",
    "    predictions_cleaned = np.concatenate((predictions_cleaned,index))\n",
    "\n",
    "matches = np.sum(predictions_cleaned == y_test)\n",
    "precision = matches/len(predictions)\n",
    "\n",
    "\n",
    "print('-----------RESULTADOS TESTING-----------')\n",
    "print('Predicciones acertadas: {:d}/{:d}'.format(matches, len(predictions)))\n",
    "print('Porcentaje de precision: {:.2f}%'.format(precision*100))"
   ]
  },
  {
   "cell_type": "markdown",
   "metadata": {},
   "source": [
    "Como podemos observar se obtuvo una precisión del 84.58% prediciendo los datos del set de testing. Este dataset contiene 10000 imagenes diferentes a las que se usaron para el entrenamiento. El rendimiento del modelo es positivo y no se notó ningún incremento sustancial al probar con más iteraciones en el entrenamiento."
   ]
  }
 ],
 "metadata": {
  "kernelspec": {
   "display_name": "Python 3",
   "language": "python",
   "name": "python3"
  },
  "language_info": {
   "codemirror_mode": {
    "name": "ipython",
    "version": 3
   },
   "file_extension": ".py",
   "mimetype": "text/x-python",
   "name": "python",
   "nbconvert_exporter": "python",
   "pygments_lexer": "ipython3",
   "version": "3.7.4"
  }
 },
 "nbformat": 4,
 "nbformat_minor": 4
}
